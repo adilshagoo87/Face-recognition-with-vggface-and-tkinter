{
 "cells": [
  {
   "cell_type": "code",
   "execution_count": 1,
   "metadata": {},
   "outputs": [
    {
     "name": "stderr",
     "output_type": "stream",
     "text": [
      "Using TensorFlow backend.\n"
     ]
    }
   ],
   "source": [
    "import tkinter as tk\n",
    "from tkinter import filedialog\n",
    "from tkinter import *\n",
    "from PIL import ImageTk, Image\n",
    "from numpy import expand_dims\n",
    "import matplotlib.pyplot as plt\n",
    "from PIL import Image\n",
    "import numpy\n",
    "from numpy import asarray\n",
    "from mtcnn.mtcnn import MTCNN\n",
    "from keras_vggface.vggface import VGGFace\n",
    "from keras_vggface.utils import preprocess_input\n",
    "from keras_vggface.utils import decode_predictions\n"
   ]
  },
  {
   "cell_type": "code",
   "execution_count": 4,
   "metadata": {},
   "outputs": [
    {
     "name": "stdout",
     "output_type": "stream",
     "text": [
      "b' Pulkit_Samrat' 47.37042486667633\n",
      "b' Juan_Pablo_Di_Pace' 17.90548861026764\n",
      "b' Kinshuk_Mahajan' 13.94462138414383\n",
      "b' Diganth' 6.275144964456558\n",
      "b' Manchu_Vishnu' 3.6404896527528763\n",
      "b' Pulkit_Samrat' 47.37042486667633\n",
      "b' Juan_Pablo_Di_Pace' 17.90548861026764\n",
      "b' Kinshuk_Mahajan' 13.94462138414383\n",
      "b' Diganth' 6.275144964456558\n",
      "b' Manchu_Vishnu' 3.6404896527528763\n",
      "b' Shaheer_Sheikh' 44.07424032688141\n",
      "b' Gurdas_Maan' 11.148379743099213\n",
      "b' Aditya_Thackeray' 10.584497451782227\n",
      "b' Sekhar_Kammula' 7.706277817487717\n",
      "b' Sumitra_Mahajan' 2.4102406576275826\n"
     ]
    }
   ],
   "source": [
    "model = VGGFace(model=\"senet50\")\n",
    "top=tk.Tk()\n",
    "top.geometry('1200x800')\n",
    "top.title('Image Recognition system')\n",
    "top.configure(background='#CDCDCD')\n",
    "\n",
    "label=Label(top,background='#CDCDCD', font=('arial',15,'bold'))\n",
    "sign_image = Label(top)\n",
    "\n",
    "def classify(file_path,required_size=(224,224)):\n",
    "    pixels=plt.imread(file_path)\n",
    "    detector=MTCNN()\n",
    "    results=detector.detect_faces(pixels)\n",
    "    x1,y1,width,height=results[0][\"box\"]\n",
    "    x2,y2=x1 +width ,y1+height\n",
    "    faces=pixels[y1:y2,x1:x2]\n",
    "    image=Image.fromarray(faces)\n",
    "    image=image.resize(required_size)\n",
    "    #face_array=asarray(image)\n",
    "    #face_array=pixels.astype(\"float32\")\n",
    "    samples=expand_dims(image,axis=0)\n",
    "    #samples=preprocess_input(samples,version=2)\n",
    "    \n",
    "    pred = model.predict(samples)\n",
    "    results=decode_predictions(pred)\n",
    "    for result in results[0]:\n",
    "        print(result[0],result[1]*100)\n",
    "    label.configure(foreground='#011638', text=results,font=('arial',10,'bold'))\n",
    "def show_classify_button(file_path):\n",
    "    classify_b=Button(top,text=\"Classify Image\",command=lambda: classify(file_path),padx=10,pady=5)\n",
    "    classify_b.configure(background='#364156', foreground='white',font=('arial',10,'bold'))\n",
    "    classify_b.place(relx=0.79,rely=0.46)\n",
    "def upload_image():\n",
    "    try:\n",
    "        file_path=filedialog.askopenfilename()\n",
    "        uploaded=Image.open(file_path)\n",
    "        uploaded.thumbnail(((top.winfo_width()/2.25),(top.winfo_height()/2.25)))\n",
    "        im=ImageTk.PhotoImage(uploaded)\n",
    "        \n",
    "        sign_image.configure(image=im)\n",
    "        sign_image.image=im\n",
    "        label.configure(text='')\n",
    "        show_classify_button(file_path)\n",
    "    except:\n",
    "        pass\n",
    "\n",
    "upload=Button(top,text=\"Upload an image\",command=upload_image,padx=10,pady=5)\n",
    "upload.configure(background='#364156', foreground='white',font=('arial',10,'bold'))\n",
    "\n",
    "upload.pack(side=BOTTOM,pady=50)\n",
    "sign_image.pack(side=BOTTOM,expand=True)\n",
    "label.pack(side=BOTTOM,expand=True)\n",
    "heading = Label(top, text=\"Image Recognition system\",pady=20, font=('arial',20,'bold'))\n",
    "heading.configure(background='#CDCDCD',foreground='#364156')\n",
    "heading.pack()\n",
    "top.mainloop()"
   ]
  },
  {
   "cell_type": "code",
   "execution_count": null,
   "metadata": {},
   "outputs": [],
   "source": []
  },
  {
   "cell_type": "code",
   "execution_count": null,
   "metadata": {},
   "outputs": [],
   "source": []
  }
 ],
 "metadata": {
  "kernelspec": {
   "display_name": "Python 3",
   "language": "python",
   "name": "python3"
  },
  "language_info": {
   "codemirror_mode": {
    "name": "ipython",
    "version": 3
   },
   "file_extension": ".py",
   "mimetype": "text/x-python",
   "name": "python",
   "nbconvert_exporter": "python",
   "pygments_lexer": "ipython3",
   "version": "3.6.5"
  }
 },
 "nbformat": 4,
 "nbformat_minor": 2
}
