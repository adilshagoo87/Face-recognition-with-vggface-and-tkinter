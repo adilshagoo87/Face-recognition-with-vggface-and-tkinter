{
 "cells": [
  {
   "cell_type": "code",
   "execution_count": 12,
   "metadata": {},
   "outputs": [],
   "source": [
    "from numpy import expand_dims\n",
    "from matplotlib import pyplot\n",
    "from PIL import Image\n",
    "from numpy import asarray\n",
    "from mtcnn.mtcnn import MTCNN\n",
    "from keras_vggface.vggface import VGGFace\n",
    "from keras_vggface.utils import preprocess_input\n",
    "from keras_vggface.utils import decode_predictions"
   ]
  },
  {
   "cell_type": "code",
   "execution_count": 13,
   "metadata": {},
   "outputs": [],
   "source": [
    "def extractor(filename,required_size=(224,224)):\n",
    "    pixels=plt.imread(filename)\n",
    "    detector=MTCNN()\n",
    "    results=detector.detect_faces(pixels)\n",
    "    x1,y1,width,height=results[0][\"box\"]\n",
    "    x2,y2=x1 +width ,y1+height\n",
    "    faces=pixels[y1:y2,x1:x2]\n",
    "    image=Image.fromarray(faces)\n",
    "    image=image.resize(required_size)\n",
    "    face_array=asarray(image)\n",
    "    return face_array\n"
   ]
  },
  {
   "cell_type": "code",
   "execution_count": 22,
   "metadata": {
    "scrolled": true
   },
   "outputs": [
    {
     "name": "stdout",
     "output_type": "stream",
     "text": [
      "b' Shaheer_Sheikh': 69.424%\n",
      "b' Gurdas_Maan': 10.383%\n",
      "b' Boban_Bajkovi\\xc4\\x87': 2.443%\n",
      "b' Erkan_Zengin': 1.296%\n",
      "b' Sami_Yusuf': 1.148%\n"
     ]
    }
   ],
   "source": [
    "pixels=extractor(\"s.jpg\")\n",
    "pixels=pixels.astype(\"float32\")\n",
    "samples=expand_dims(pixels,axis=0)\n",
    "samples=preprocess_input(samples,version=2)\n",
    "model = VGGFace(model=\"senet50\")\n",
    "pred=model.predict(samples)\n",
    "results=decode_predictions(pred)\n",
    "for result in results[0]:\n",
    "    print(\"%s: %.3f%%\" % (result[0],result[1]*100))\n"
   ]
  },
  {
   "cell_type": "code",
   "execution_count": null,
   "metadata": {},
   "outputs": [],
   "source": []
  }
 ],
 "metadata": {
  "kernelspec": {
   "display_name": "Python 3",
   "language": "python",
   "name": "python3"
  },
  "language_info": {
   "codemirror_mode": {
    "name": "ipython",
    "version": 3
   },
   "file_extension": ".py",
   "mimetype": "text/x-python",
   "name": "python",
   "nbconvert_exporter": "python",
   "pygments_lexer": "ipython3",
   "version": "3.6.5"
  }
 },
 "nbformat": 4,
 "nbformat_minor": 2
}
